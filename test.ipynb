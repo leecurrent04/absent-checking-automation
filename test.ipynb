{
 "cells": [
  {
   "cell_type": "code",
   "execution_count": 33,
   "metadata": {},
   "outputs": [
    {
     "name": "stdout",
     "output_type": "stream",
     "text": [
      "2022.09.01,1,a,출석인정결석,코로나 확진\n",
      "2022.09.01,6,a,질병결석,몸살\n"
     ]
    }
   ],
   "source": [
    "with open(\"./resource.csv\",'r') as fp:\n",
    "    for n in fp.readlines()[1:]:\n",
    "        tmp_type = n.split(\",\")[3]\n",
    "        if tmp_type[-2:] == \"결석\" or tmp_type==\"출석인정조퇴\":\n",
    "            if tmp_type != \"미인정결석\":\n",
    "                print(n,end=\"\")\n"
   ]
  },
  {
   "cell_type": "code",
   "execution_count": 1,
   "metadata": {},
   "outputs": [
    {
     "name": "stdout",
     "output_type": "stream",
     "text": [
      "0,2022.09.01,1,홍길동,출석인정결석,코로나 확진\n",
      "5,2022.09.01,6,요기요,질병결석,몸살\n",
      "7,2022.09.02,8,뭐하지,출석인정결석,코로나 확진\n",
      "8,2022.09.02,9,집가자,출석인정조퇴,생리통\n"
     ]
    }
   ],
   "source": [
    "import pandas as pd\n",
    "\n",
    "tmp_grade = 3\n",
    "tmp_class = 3\n",
    "# tmp_class = int(input(\"반 정보를 입력하세요: \"))\n",
    "teacher = \"정성일\"\n",
    "\n",
    "# xlsx to csv\n",
    "xlsx = pd.read_excel(\"./resource/table.xlsx\")\n",
    "xlsx.to_csv(\"./resource.csv\")\n",
    "\n",
    "# 학생 출결 정보 파일을 불러옴\n",
    "with open(\"./resource.csv\", 'r', encoding='UTF-8') as table:\n",
    "    \n",
    "    # 한 줄씩 처리\n",
    "    for n in table.readlines()[1:]:\n",
    "        \n",
    "        # variable\n",
    "        tmp_type = n.split(\",\")[4]\n",
    "\n",
    "        if tmp_type[-2:] == \"결석\" or tmp_type==\"출석인정조퇴\":\n",
    "            if tmp_type != \"미인정결석\":\n",
    "                print(n,end=\"\")\n",
    "\n",
    "                _, date, number, name, _, reason = n.split(\",\")\n",
    "                year, month, day = date.split(\".\")\n",
    "\n",
    "                with open(\"./output/raw/%s%s%s_%s.html\"%(year,month,day, name), 'w', encoding='UTF-8') as output: \n",
    "                    with open(\"./resource/form.html\",'r', encoding='UTF-8') as form:\n",
    "                        tmp_data = form.read()\n",
    "\n",
    "\n",
    "                    if tmp_type == \"출석인정결석\":\n",
    "                        codeA = \"Ｏ\"; codeB = \"\"; codeC = \"\"\n",
    "                    elif tmp_type == \"질병결석\":\n",
    "                        codeA = \"\"; codeB = \"Ｏ\"; codeC = \"\"\n",
    "                    elif tmp_type == \"출석인정조퇴\":\n",
    "                        codeA = \"\"; codeB = \"\"; codeC = \"Ｏ\"\n",
    "\n",
    "                    old_data = [\"$yr\", \"$mo\", \"$dy\", \n",
    "                    \"$grade\", \"$class\", \"$number\", \"$name\", \n",
    "                    \"$reason\", \"$state\", \"$teacher\",\n",
    "                    \"$a\", \"$b\", \"$c\"\n",
    "                    ]\n",
    "\n",
    "                    new_data = [year, month, day, \n",
    "                    tmp_grade, tmp_class, number, name, \n",
    "                    reason, tmp_type[-2:], teacher,\n",
    "                    codeA, codeB, codeC\n",
    "                    ]\n",
    "\n",
    "                    for i in range(0,len(old_data)):\n",
    "                        tmp_data = tmp_data.replace(str(old_data[i]), str(new_data[i]))\n",
    "                    output.write(tmp_data)\n"
   ]
  },
  {
   "cell_type": "code",
   "execution_count": null,
   "metadata": {},
   "outputs": [],
   "source": [
    "\n",
    "                path_input = \"./output/raw/%s%s%s_%s.html\"%(year,month,day, name)\n",
    "                path_output = \"./output/%s%s%s_%s.pdf\"%(year,month,day, name)\n",
    "                options= {\n",
    "                        'page-size': 'A4',\n",
    "                        'margin-top': '0',\n",
    "                        'margin-right': '0',\n",
    "                        'margin-bottom': '0',\n",
    "                        'margin-left': '0',\n",
    "                        'disable-smart-shrinking': \"\",\n",
    "                        \"enable-local-file-access\": \"\"\n",
    "                }\n",
    "                path_css = \"./output/raw/form_style.css\"\n",
    "                pdfkit.from_file(path_input, path_output, options=options, css=path_css)"
   ]
  },
  {
   "cell_type": "code",
   "execution_count": 2,
   "metadata": {},
   "outputs": [
    {
     "name": "stdout",
     "output_type": "stream",
     "text": [
      "Collecting pandas\n",
      "  Downloading pandas-1.5.1-cp39-cp39-manylinux_2_17_x86_64.manylinux2014_x86_64.whl (12.2 MB)\n",
      "\u001b[K     |████████████████████████████████| 12.2 MB 5.4 MB/s eta 0:00:01\n",
      "\u001b[?25hCollecting pytz>=2020.1\n",
      "  Downloading pytz-2022.5-py2.py3-none-any.whl (500 kB)\n",
      "\u001b[K     |████████████████████████████████| 500 kB 114.4 MB/s eta 0:00:01\n",
      "\u001b[?25hRequirement already satisfied: python-dateutil>=2.8.1 in /home/whale/.local/share/anaconda3/envs/ML/lib/python3.9/site-packages (from pandas) (2.8.2)\n",
      "Requirement already satisfied: numpy>=1.20.3 in /home/whale/.local/share/anaconda3/envs/ML/lib/python3.9/site-packages (from pandas) (1.23.0)\n",
      "Requirement already satisfied: six>=1.5 in /home/whale/.local/share/anaconda3/envs/ML/lib/python3.9/site-packages (from python-dateutil>=2.8.1->pandas) (1.16.0)\n",
      "Installing collected packages: pytz, pandas\n",
      "Successfully installed pandas-1.5.1 pytz-2022.5\n"
     ]
    }
   ],
   "source": [
    "!pip3 install pandas"
   ]
  },
  {
   "cell_type": "code",
   "execution_count": 1,
   "metadata": {},
   "outputs": [
    {
     "name": "stdout",
     "output_type": "stream",
     "text": [
      "Collecting pdfkit\n",
      "  Downloading pdfkit-1.0.0-py3-none-any.whl (12 kB)\n",
      "Installing collected packages: pdfkit\n",
      "Successfully installed pdfkit-1.0.0\n"
     ]
    }
   ],
   "source": [
    "!pip3 install pdfkit"
   ]
  },
  {
   "cell_type": "code",
   "execution_count": 5,
   "metadata": {},
   "outputs": [
    {
     "name": "stdout",
     "output_type": "stream",
     "text": [
      "Collecting pdfcrowd\n",
      "  Downloading pdfcrowd-5.9.0-py2.py3-none-any.whl (44 kB)\n",
      "\u001b[K     |████████████████████████████████| 44 kB 3.5 MB/s eta 0:00:011\n",
      "\u001b[?25hInstalling collected packages: pdfcrowd\n",
      "Successfully installed pdfcrowd-5.9.0\n"
     ]
    }
   ],
   "source": [
    "!pip3 install pdfcrowd"
   ]
  }
 ],
 "metadata": {
  "kernelspec": {
   "display_name": "Python 3.9.12 ('ML')",
   "language": "python",
   "name": "python3"
  },
  "language_info": {
   "codemirror_mode": {
    "name": "ipython",
    "version": 3
   },
   "file_extension": ".py",
   "mimetype": "text/x-python",
   "name": "python",
   "nbconvert_exporter": "python",
   "pygments_lexer": "ipython3",
   "version": "3.9.12"
  },
  "orig_nbformat": 4,
  "vscode": {
   "interpreter": {
    "hash": "29686573052bfc5f8df1be872a4e991617fa14f15ab9b46c53f2a6609aa7d4be"
   }
  }
 },
 "nbformat": 4,
 "nbformat_minor": 2
}
